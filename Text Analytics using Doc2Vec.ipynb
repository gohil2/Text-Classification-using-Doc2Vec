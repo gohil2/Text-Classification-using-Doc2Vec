{
 "cells": [
  {
   "cell_type": "markdown",
   "metadata": {},
   "source": [
    "The following code runs the classification experiment from the Hitchhikers-guide tutorial modified to vectorize the job descriptions using doc2vec."
   ]
  },
  {
   "cell_type": "code",
   "execution_count": null,
   "metadata": {},
   "outputs": [],
   "source": [
    "%pylab inline \n",
    "import nltk\n",
    "import json\n",
    "import re\n",
    "import time\n",
    "import pandas as pd\n",
    "from __future__ import print_function\n",
    "from six.moves import zip, range \n",
    "\n",
    "from sklearn.decomposition import LatentDirichletAllocation\n",
    "from sklearn.linear_model import LogisticRegression\n",
    "from sklearn.metrics import precision_recall_curve, roc_auc_score, auc\n",
    "from sklearn import preprocessing\n",
    "from collections import Counter\n",
    "\n",
    "from gensim import models\n",
    "import warnings\n",
    "\n",
    "nltk.download('stopwords')"
   ]
  },
  {
   "cell_type": "code",
   "execution_count": 7,
   "metadata": {},
   "outputs": [],
   "source": [
    "warnings.filterwarnings('ignore')"
   ]
  },
  {
   "cell_type": "code",
   "execution_count": 9,
   "metadata": {},
   "outputs": [],
   "source": [
    "df_jobs_data = pd.read_csv('./jobs_subset.csv')"
   ]
  },
  {
   "cell_type": "code",
   "execution_count": 10,
   "metadata": {},
   "outputs": [
    {
     "data": {
      "text/plain": [
       "array(['Lawyers', 'Software Quality Assurance Engineers and Testers',\n",
       "       'Graduate Teaching Assistants', 'Financial Examiners',\n",
       "       'Credit Analysts'], dtype=object)"
      ]
     },
     "execution_count": 10,
     "metadata": {},
     "output_type": "execute_result"
    }
   ],
   "source": [
    "df_jobs_data.normalizedTitle_onetName.unique()"
   ]
  },
  {
   "cell_type": "code",
   "execution_count": 11,
   "metadata": {},
   "outputs": [],
   "source": [
    "df_train = pd.read_csv('./train_corpus_document_tagging.csv')\n",
    "df_test = pd.read_csv('./test_corpus_document_tagging.csv')"
   ]
  },
  {
   "cell_type": "code",
   "execution_count": 12,
   "metadata": {},
   "outputs": [
    {
     "data": {
      "text/html": [
       "<div>\n",
       "<style scoped>\n",
       "    .dataframe tbody tr th:only-of-type {\n",
       "        vertical-align: middle;\n",
       "    }\n",
       "\n",
       "    .dataframe tbody tr th {\n",
       "        vertical-align: top;\n",
       "    }\n",
       "\n",
       "    .dataframe thead th {\n",
       "        text-align: right;\n",
       "    }\n",
       "</style>\n",
       "<table border=\"1\" class=\"dataframe\">\n",
       "  <thead>\n",
       "    <tr style=\"text-align: right;\">\n",
       "      <th></th>\n",
       "      <th>Unnamed: 0</th>\n",
       "      <th>normalizedTitle_onetName</th>\n",
       "      <th>jobDescription</th>\n",
       "    </tr>\n",
       "  </thead>\n",
       "  <tbody>\n",
       "    <tr>\n",
       "      <th>0</th>\n",
       "      <td>96011</td>\n",
       "      <td>Credit Analysts</td>\n",
       "      <td>/Join a financial group thats as committed to ...</td>\n",
       "    </tr>\n",
       "    <tr>\n",
       "      <th>1</th>\n",
       "      <td>355594</td>\n",
       "      <td>Credit Analysts</td>\n",
       "      <td>for fastest consideration on this position, pl...</td>\n",
       "    </tr>\n",
       "    <tr>\n",
       "      <th>2</th>\n",
       "      <td>118598</td>\n",
       "      <td>Credit Analysts</td>\n",
       "      <td>As a Credit Analyst youll be responsible for c...</td>\n",
       "    </tr>\n",
       "    <tr>\n",
       "      <th>3</th>\n",
       "      <td>107794</td>\n",
       "      <td>Credit Analysts</td>\n",
       "      <td>We are a specialty retailer offering the very ...</td>\n",
       "    </tr>\n",
       "    <tr>\n",
       "      <th>4</th>\n",
       "      <td>40010</td>\n",
       "      <td>Credit Analysts</td>\n",
       "      <td>Title: KYC Remediation Team Analyst II Locatio...</td>\n",
       "    </tr>\n",
       "  </tbody>\n",
       "</table>\n",
       "</div>"
      ],
      "text/plain": [
       "   Unnamed: 0 normalizedTitle_onetName  \\\n",
       "0       96011          Credit Analysts   \n",
       "1      355594          Credit Analysts   \n",
       "2      118598          Credit Analysts   \n",
       "3      107794          Credit Analysts   \n",
       "4       40010          Credit Analysts   \n",
       "\n",
       "                                      jobDescription  \n",
       "0  /Join a financial group thats as committed to ...  \n",
       "1  for fastest consideration on this position, pl...  \n",
       "2  As a Credit Analyst youll be responsible for c...  \n",
       "3  We are a specialty retailer offering the very ...  \n",
       "4  Title: KYC Remediation Team Analyst II Locatio...  "
      ]
     },
     "execution_count": 12,
     "metadata": {},
     "output_type": "execute_result"
    }
   ],
   "source": [
    "df_train.head()"
   ]
  },
  {
   "cell_type": "code",
   "execution_count": 13,
   "metadata": {},
   "outputs": [
    {
     "data": {
      "text/html": [
       "<div>\n",
       "<style scoped>\n",
       "    .dataframe tbody tr th:only-of-type {\n",
       "        vertical-align: middle;\n",
       "    }\n",
       "\n",
       "    .dataframe tbody tr th {\n",
       "        vertical-align: top;\n",
       "    }\n",
       "\n",
       "    .dataframe thead th {\n",
       "        text-align: right;\n",
       "    }\n",
       "</style>\n",
       "<table border=\"1\" class=\"dataframe\">\n",
       "  <thead>\n",
       "    <tr style=\"text-align: right;\">\n",
       "      <th></th>\n",
       "      <th>Unnamed: 0</th>\n",
       "      <th>normalizedTitle_onetName</th>\n",
       "      <th>jobDescription</th>\n",
       "    </tr>\n",
       "  </thead>\n",
       "  <tbody>\n",
       "    <tr>\n",
       "      <th>0</th>\n",
       "      <td>356466</td>\n",
       "      <td>Credit Analysts</td>\n",
       "      <td>Collections Analyst to monitor and follow up o...</td>\n",
       "    </tr>\n",
       "    <tr>\n",
       "      <th>1</th>\n",
       "      <td>314705</td>\n",
       "      <td>Credit Analysts</td>\n",
       "      <td>Credit Analyst **Location:** LAVERGNE, TN **Sa...</td>\n",
       "    </tr>\n",
       "    <tr>\n",
       "      <th>2</th>\n",
       "      <td>84895</td>\n",
       "      <td>Credit Analysts</td>\n",
       "      <td>Deputy Head of Credit/Senior Credit Officer - ...</td>\n",
       "    </tr>\n",
       "    <tr>\n",
       "      <th>3</th>\n",
       "      <td>194749</td>\n",
       "      <td>Credit Analysts</td>\n",
       "      <td>Dresden Partners cuenta con 10 anos de experie...</td>\n",
       "    </tr>\n",
       "    <tr>\n",
       "      <th>4</th>\n",
       "      <td>351689</td>\n",
       "      <td>Credit Analysts</td>\n",
       "      <td>Degreed accountant with manufacturing experien...</td>\n",
       "    </tr>\n",
       "  </tbody>\n",
       "</table>\n",
       "</div>"
      ],
      "text/plain": [
       "   Unnamed: 0 normalizedTitle_onetName  \\\n",
       "0      356466          Credit Analysts   \n",
       "1      314705          Credit Analysts   \n",
       "2       84895          Credit Analysts   \n",
       "3      194749          Credit Analysts   \n",
       "4      351689          Credit Analysts   \n",
       "\n",
       "                                      jobDescription  \n",
       "0  Collections Analyst to monitor and follow up o...  \n",
       "1  Credit Analyst **Location:** LAVERGNE, TN **Sa...  \n",
       "2  Deputy Head of Credit/Senior Credit Officer - ...  \n",
       "3  Dresden Partners cuenta con 10 anos de experie...  \n",
       "4  Degreed accountant with manufacturing experien...  "
      ]
     },
     "execution_count": 13,
     "metadata": {},
     "output_type": "execute_result"
    }
   ],
   "source": [
    "df_test.head()"
   ]
  },
  {
   "cell_type": "markdown",
   "metadata": {},
   "source": [
    "## Process data"
   ]
  },
  {
   "cell_type": "code",
   "execution_count": 14,
   "metadata": {},
   "outputs": [],
   "source": [
    "RE_PREPROCESS = r'\\W+|\\d+' #the regular expressions that matches all non-characters\n",
    "\n",
    "test_corpus = np.array( [re.sub(RE_PREPROCESS, ' ', text).lower() for text in df_test.jobDescription.values])\n",
    "train_corpus = np.array( [re.sub(RE_PREPROCESS, ' ', text).lower() for text in df_train.jobDescription.values])\n",
    "\n",
    "test_labels = df_test.normalizedTitle_onetName.values\n",
    "train_labels = df_train.normalizedTitle_onetName.values"
   ]
  },
  {
   "cell_type": "code",
   "execution_count": 15,
   "metadata": {},
   "outputs": [],
   "source": [
    "labels = np.append(train_labels, test_labels)\n",
    "corpus = np.append(train_corpus,test_corpus)"
   ]
  },
  {
   "cell_type": "code",
   "execution_count": 16,
   "metadata": {},
   "outputs": [],
   "source": [
    "#Function to return processed corpus from input \n",
    "def GetProcessedCorpus(d): \n",
    "    processed_corpus= list()\n",
    "    for i in range(len(d)):\n",
    "        d1 = d[i].split()\n",
    "        processed_corpus.append(d1)\n",
    "    return processed_corpus"
   ]
  },
  {
   "cell_type": "code",
   "execution_count": 17,
   "metadata": {},
   "outputs": [],
   "source": [
    "class LabeledLineSentence(object):\n",
    "        def __init__(self, documents_list, labels_list):\n",
    "            self.labels_list = labels_list\n",
    "            self.documents_list = documents_list\n",
    "        def __iter__(self):\n",
    "            for idx, doc in enumerate(self.documents_list):\n",
    "                yield models.doc2vec.LabeledSentence(doc,[self.labels_list[idx]])"
   ]
  },
  {
   "cell_type": "code",
   "execution_count": 18,
   "metadata": {},
   "outputs": [],
   "source": [
    "def Use_Doc2Vec(train_corpus,test_corpus):\n",
    "    test_labels = np.array(['Test{}'.format(i) for i in range(len(test_corpus))])\n",
    "    train_labels = np.array(['Train{}'.format(i) for i in range(len(train_corpus))])\n",
    "    LabelledSentence_train = LabeledLineSentence(train_corpus, train_labels)  \n",
    "    LabelledSentence_test =  LabeledLineSentence(test_corpus, test_labels)\n",
    "    \n",
    "    model_train = models.Doc2Vec( min_count = 1, workers = 11\n",
    "                                 ,alpha = 0.025, min_alpha = 0.025) \n",
    "   \n",
    "    model_test  = models.Doc2Vec( min_count = 1, workers = 11\n",
    "                                 ,alpha = 0.025, min_alpha = 0.025) \n",
    "    model_train.build_vocab(LabelledSentence_train)\n",
    "    model_test.build_vocab(LabelledSentence_test)\n",
    "    \n",
    "    print(\"Training...\")\n",
    "    for epoch in range(10):\n",
    "        model_train.train(LabelledSentence_train, total_examples = model_train.corpus_count, epochs = model_train.iter)\n",
    "        model_train.alpha -= 0.002\n",
    "        model_train.min_alpha = model_train.alpha\n",
    "        \n",
    "    for epoch in range(10):\n",
    "        model_test.train(LabelledSentence_test, total_examples = model_test.corpus_count, epochs = model_test.iter)\n",
    "        model_test.alpha -= 0.002\n",
    "        model_test.min_alpha = model_test.alpha\n",
    "    \n",
    "    print(\"Training Done!\")\n",
    "    model_train.save(\"train_model.doc2vec\")\n",
    "    doc2vec_train_model = models.doc2vec.Doc2Vec.load('train_model.doc2vec')\n",
    "    model_test.save(\"test_model.doc2vec\")\n",
    "    \n",
    "    doc2vec_test_model = models.doc2vec.Doc2Vec.load('test_model.doc2vec')\n",
    "    \n",
    "    train_set = numpy.zeros((model_train.docvecs.count, 100))\n",
    "    for i in range(model_train.docvecs.count):\n",
    "        train_set[i] = model_train.docvecs[i]\n",
    "    test_set = numpy.zeros((model_test.docvecs.count, 100))\n",
    "    for i in range(model_test.docvecs.count):\n",
    "        test_set[i] = model_test.docvecs[i]\n",
    "        \n",
    "    return train_set, test_set\n"
   ]
  },
  {
   "cell_type": "code",
   "execution_count": 19,
   "metadata": {},
   "outputs": [
    {
     "name": "stdout",
     "output_type": "stream",
     "text": [
      "Training...\n",
      "Training Done!\n"
     ]
    }
   ],
   "source": [
    "processed_train_corpus = GetProcessedCorpus(train_corpus)\n",
    "processed_test_corpus  = GetProcessedCorpus(test_corpus)\n",
    "\n",
    "training_vector,test_vector = Use_Doc2Vec(processed_train_corpus,processed_test_corpus)"
   ]
  },
  {
   "cell_type": "code",
   "execution_count": 20,
   "metadata": {},
   "outputs": [],
   "source": [
    "#relabel our labels as a 0 or 1\n",
    "le = preprocessing.LabelEncoder() \n",
    "le.fit(labels)\n",
    "labels_binary = le.transform(labels)"
   ]
  },
  {
   "cell_type": "code",
   "execution_count": 21,
   "metadata": {},
   "outputs": [
    {
     "data": {
      "text/plain": [
       "array([0, 0, 0, 0, 0, 0, 0, 0, 0, 0, 0, 0, 0, 0, 0, 0, 0, 0, 0, 0, 0, 0,\n",
       "       0, 0, 0, 0, 0, 0, 0, 0, 0, 0, 0, 0, 0, 0, 0, 0, 0, 0, 0, 0, 0, 0,\n",
       "       0, 0, 0, 0, 0, 0, 0, 1, 1, 1, 1, 1, 1, 1, 1, 1, 1, 1, 1, 1, 1, 1,\n",
       "       1, 1, 1, 1, 1, 1, 1, 1, 1, 1, 1, 1, 1, 1, 1, 1, 1, 1, 1, 1, 1, 1,\n",
       "       1, 1, 1, 1, 1, 1, 1, 1, 1, 1, 1, 1, 1, 1, 0, 0, 0, 0, 0, 0, 0, 0,\n",
       "       0, 0, 0, 0, 0, 0, 0, 0, 0, 0, 0, 0, 0, 0, 0, 0, 0, 0, 0, 0, 0, 0,\n",
       "       0, 0, 0, 0, 0, 0, 0, 0, 0, 0, 0, 0, 0, 0, 0, 0, 0, 0, 0, 0, 0, 0,\n",
       "       0, 0, 0, 0, 0, 0, 0, 0, 0, 0, 0, 0, 0, 0, 0, 0, 0, 0, 0, 0, 0, 0,\n",
       "       0, 0, 0, 1, 1, 1, 1, 1, 1, 1, 1, 1, 1, 1, 1, 1, 1, 1, 1, 1, 1, 1,\n",
       "       1, 1, 1, 1, 1, 1, 1, 1, 1, 1, 1, 1, 1, 1, 1, 1, 1, 1, 1, 1, 1, 1,\n",
       "       1, 1, 1, 1, 1, 1, 1, 1, 1, 1, 1, 1, 1, 1, 1, 1, 1, 1, 1, 1, 1, 1,\n",
       "       1, 1, 1, 1, 1, 1, 1, 1, 1, 1, 1, 1, 1, 1], dtype=int64)"
      ]
     },
     "execution_count": 21,
     "metadata": {},
     "output_type": "execute_result"
    }
   ],
   "source": [
    "labels_binary"
   ]
  },
  {
   "cell_type": "code",
   "execution_count": 22,
   "metadata": {},
   "outputs": [
    {
     "data": {
      "text/plain": [
       "array(['Credit Analysts', 'Credit Analysts', 'Credit Analysts',\n",
       "       'Credit Analysts', 'Credit Analysts', 'Credit Analysts',\n",
       "       'Credit Analysts', 'Credit Analysts', 'Credit Analysts',\n",
       "       'Credit Analysts'], dtype=object)"
      ]
     },
     "execution_count": 22,
     "metadata": {},
     "output_type": "execute_result"
    }
   ],
   "source": [
    "labels[:10]"
   ]
  },
  {
   "cell_type": "code",
   "execution_count": 23,
   "metadata": {},
   "outputs": [],
   "source": [
    "train_set_index = np.arange(0,df_train.shape[0])\n",
    "test_set_index = np.arange(df_train.shape[0], len(labels))\n",
    "train_labels_binary = labels_binary[train_set_index]\n",
    "test_labels_binary = labels_binary[test_set_index]"
   ]
  },
  {
   "cell_type": "code",
   "execution_count": 25,
   "metadata": {},
   "outputs": [],
   "source": [
    "clf = LogisticRegression(penalty='l1')\n",
    "mdl = clf.fit(training_vector,\n",
    "              labels_binary[train_set_index]) \n",
    "y_score = mdl.predict_proba( test_vector ) "
   ]
  },
  {
   "cell_type": "markdown",
   "metadata": {},
   "source": [
    "## Evaluation"
   ]
  },
  {
   "cell_type": "code",
   "execution_count": 26,
   "metadata": {},
   "outputs": [],
   "source": [
    "def plot_precision_recall_n(y_true, y_prob, model_name):\n",
    "    \"\"\"\n",
    "    y_true: ls\n",
    "        ls of ground truth labels\n",
    "    y_prob: ls\n",
    "        ls of predic proba from model\n",
    "    model_name: str\n",
    "        str of model name (e.g, LR_123)\n",
    "    \"\"\"\n",
    "    from sklearn.metrics import precision_recall_curve\n",
    "    y_score = y_prob\n",
    "    precision_curve, recall_curve, pr_thresholds = precision_recall_curve(y_true, y_score)\n",
    "    precision_curve = precision_curve[:-1]\n",
    "    recall_curve = recall_curve[:-1]\n",
    "    pct_above_per_thresh = []\n",
    "    number_scored = len(y_score)\n",
    "    for value in pr_thresholds:\n",
    "        num_above_thresh = len(y_score[y_score>=value])\n",
    "        pct_above_thresh = num_above_thresh / float(number_scored)\n",
    "        pct_above_per_thresh.append(pct_above_thresh)\n",
    "    pct_above_per_thresh = np.array(pct_above_per_thresh)\n",
    "    plt.clf()\n",
    "    fig, ax1 = plt.subplots()\n",
    "    ax1.plot(pct_above_per_thresh, precision_curve, 'b')\n",
    "    ax1.set_xlabel('percent of population')\n",
    "    ax1.set_ylabel('precision', color='b')\n",
    "    ax1.set_ylim(0,1.05)\n",
    "    ax2 = ax1.twinx()\n",
    "    ax2.plot(pct_above_per_thresh, recall_curve, 'r')\n",
    "    ax2.set_ylabel('recall', color='r')\n",
    "    ax2.set_ylim(0,1.05)\n",
    "    \n",
    "    name = model_name\n",
    "    plt.title(name)\n",
    "    plt.show()"
   ]
  },
  {
   "cell_type": "code",
   "execution_count": 27,
   "metadata": {},
   "outputs": [
    {
     "data": {
      "text/plain": [
       "<Figure size 432x288 with 0 Axes>"
      ]
     },
     "metadata": {},
     "output_type": "display_data"
    },
    {
     "data": {
      "image/png": "[encoded data removed]",
      "text/plain": [
       "<Figure size 432x288 with 2 Axes>"
      ]
     },
     "metadata": {},
     "output_type": "display_data"
    }
   ],
   "source": [
    "plot_precision_recall_n(labels_binary[test_set_index], y_score[:,1], 'LR')"
   ]
  },
  {
   "cell_type": "code",
   "execution_count": 28,
   "metadata": {},
   "outputs": [],
   "source": [
    "def plot_precision_recall(y_true,y_score):\n",
    "    \"\"\"\n",
    "    Plot a precision recall curve\n",
    "    \n",
    "    Parameters\n",
    "    ----------\n",
    "    y_true: ls\n",
    "        ground truth labels\n",
    "    y_score: ls\n",
    "        score output from model\n",
    "    \"\"\"\n",
    "    precision_curve, recall_curve, pr_thresholds = precision_recall_curve(y_true,y_score[:,1])\n",
    "    plt.plot(recall_curve, precision_curve)\n",
    "    plt.xlabel('Recall')\n",
    "    plt.ylabel('Precision')\n",
    "    auc_val = auc(recall_curve,precision_curve)\n",
    "    print('AUC-PR: {0:1f}'.format(auc_val))\n",
    "    plt.show()\n",
    "    plt.clf()"
   ]
  },
  {
   "cell_type": "code",
   "execution_count": 29,
   "metadata": {},
   "outputs": [
    {
     "name": "stdout",
     "output_type": "stream",
     "text": [
      "AUC-PR: 0.721332\n"
     ]
    },
    {
     "data": {
      "image/png": "[encoded data removed]",
      "text/plain": [
       "<Figure size 432x288 with 1 Axes>"
      ]
     },
     "metadata": {},
     "output_type": "display_data"
    },
    {
     "data": {
      "text/plain": [
       "<Figure size 432x288 with 0 Axes>"
      ]
     },
     "metadata": {},
     "output_type": "display_data"
    }
   ],
   "source": [
    "plot_precision_recall(labels_binary[test_set_index],y_score)"
   ]
  },
  {
   "cell_type": "markdown",
   "metadata": {},
   "source": [
    "## Cross Validation"
   ]
  },
  {
   "cell_type": "code",
   "execution_count": 31,
   "metadata": {},
   "outputs": [],
   "source": [
    "auc_sum = 0"
   ]
  },
  {
   "cell_type": "code",
   "execution_count": 32,
   "metadata": {},
   "outputs": [
    {
     "name": "stdout",
     "output_type": "stream",
     "text": [
      "Training...\n",
      "Training Done!\n",
      "Training...\n",
      "Training Done!\n",
      "Training...\n",
      "Training Done!\n",
      "Training...\n",
      "Training Done!\n",
      "Training...\n",
      "Training Done!\n",
      "Average AUC 0.7314484135224003\n"
     ]
    },
    {
     "data": {
      "image/png": "[encoded data removed]",
      "text/plain": [
       "<Figure size 432x288 with 1 Axes>"
      ]
     },
     "metadata": {},
     "output_type": "display_data"
    }
   ],
   "source": [
    "from sklearn.cross_validation import StratifiedKFold\n",
    "cv = StratifiedKFold(train_labels_binary, n_folds=5)\n",
    "train_labels_binary = le.transform(train_labels)\n",
    "for i, (train,test) in enumerate(cv):\n",
    "    cv_train = train_corpus[train]\n",
    "    cv_test = train_corpus[test]\n",
    "    doc2vec_train, doc2vec_test = Use_Doc2Vec(GetProcessedCorpus(cv_train),GetProcessedCorpus(cv_test))\n",
    "    probas_ = clf.fit(doc2vec_train, \n",
    "                      train_labels_binary[train]).predict_proba(doc2vec_test)\n",
    "    cv_test_labels = train_labels_binary[test]\n",
    "    \n",
    "    precision_curve, recall_curve, pr_thresholds = precision_recall_curve(cv_test_labels,\n",
    "                                                                          probas_[:,1])\n",
    "    auc_val = auc(recall_curve,precision_curve)\n",
    "    auc_sum = auc_sum + auc_val\n",
    "    #print(auc_sum)\n",
    "    plt.plot(recall_curve, precision_curve, label='AUC-PR {0} {1:.2f}'.format(i,auc_val))\n",
    "    \n",
    "    \n",
    "plt.ylim(0,1.05)    \n",
    "plt.xlabel('Recall')\n",
    "plt.ylabel('Precision')\n",
    "plt.legend(loc=\"lower left\", fontsize='x-small')\n",
    "print(\"Average AUC\", auc_sum/5) #as number of folds = 5"
   ]
  },
  {
   "cell_type": "markdown",
   "metadata": {},
   "source": [
    "## Examples of Tagging"
   ]
  },
  {
   "cell_type": "code",
   "execution_count": 33,
   "metadata": {},
   "outputs": [],
   "source": [
    "num_comments = 5\n",
    "label0_comment_idx = y_score[:,1].argsort()[:num_comments] #SuicideWatch\n",
    "label1_comment_idx = y_score[:,1].argsort()[-num_comments:] #depression\n",
    "\n",
    "\n",
    "#convert back to the indices of the original dataset\n",
    "top_comments_testing_set_idx = np.concatenate([label0_comment_idx, \n",
    "                                               label1_comment_idx])"
   ]
  },
  {
   "cell_type": "code",
   "execution_count": 34,
   "metadata": {},
   "outputs": [],
   "source": [
    "test_set_labels = labels[test_set_index]"
   ]
  },
  {
   "cell_type": "code",
   "execution_count": 35,
   "metadata": {},
   "outputs": [
    {
     "name": "stdout",
     "output_type": "stream",
     "text": [
      "Financial Examiners:1.3587428773835403e-06\n",
      "---\n",
      " general responsibilities the compliance analyst iii is responsible for advanced monitoring analysis investigation of transactional data for identification of patterns and trends of questionable and or suspicious activity as it relates to risks associated with violations money laundering fraud terrorist financing corruption and sanctions lists the incumbent is responsible for gathering the proper documentation investigating potentially suspicious financial activity writing details reports summarizing research results and when appropriate files suspicious activity reports sars with country regulatory bodies refers matters to the regional compliance teams for review and reporting conducting an investigation may involve written and verbal communications with agents customers law enforcement and moneygram employees primary responsibilities o evaluates fraudulent suspicious and or unusual activity for regulatory reporting and or escalation to management and or other departments o determines whether transactions are legitimate and have been properly documented o serves as subject matter expert in analysis and investigative techniques o gathers pertinent evidence proper documentation through confidential research analysis to support analytical finding through more complex monitoring rules conducting internal external research pulling of transaction records and reviewing reports o conducts inbound and or outbound interviews with consumer agent or employees to gather pertinent evidence and additional details o conducts all regulatory submissions within the timelines and guidelines and country regulatory requirements o create and maintains investigative case files ensure appropriate records files are maintained accurately and are properly reconciled per all record keeping requirements mgi and regulatory o gathers information responsive to internal and or external requests for sar supporting documentation subpoenas or other requests as needed o makes sure databases logs are kept current reconciled and confidential o utilizes resources to stay abreast of industry trends and standards o provides and assist management with information on trends patterns to be used for potential control or rule enhancements helping to increase department efficiency effectiveness of the aml process for moneygrams compliance program o partners with regional compliance teams to maintain awareness of transactional patterns in moderate to high risk countries as well as provide aml fraud related advisory services in relations to financial intelligence unit activities o performs other duties as assigned skills and experience required educational requirements ba bs in business finance law enforcement legal studies or a related field may be substituted with equivalent work experience in financial services law enforcement banking or a related field experience requirements   years of data analytics related to complex compliance financial investigations experience in money service business or banking environments and or familiarity with various financial products acfe or acams certification required within   months of hire exceptional analytical cross referencing and deductive reasoning skills excellent attention to detail in analysis and writing with the proven ability to formulate execute an investigation strong written and verbal communication skills o communicate effectively with a culturally diverse agent and consumer base fluent bilingual communication skills preferred o writing skills may include writing policy procedure and management reports o able to effectively communicate investigative findings and recommendations with senior leadership law enforcement proactive organized able to work independently decisive on time managed sensitive assignments demonstrated ability to work successfully in a fast pace highly structured deadline driven culture flexibility to effectively prioritize work assignments with changing priorities experience working with highly confidential information ability to work as an individual contributor within a team setting capable of sharing knowledge mentoring and training other team members demonstrated ability for computer and internet research skills advanced experience with ms office suite particularly excel ms access preferred experience using analyst notebook or other analytics and visualization tools preferred experience with financial products particularly money transfer monetary instruments and store value cards preferred knowledge of domestic and international higher risk countries jurisdictions and corridors of aml ctf concern preferred options onlineapply refer email this job to a friendemail refer a linkedin connection share on your newsfeed job id     positions   location us tx frisco posted date       category compliance fraud position type full time job type exempt days hours m f   hours more information about this job general responsibilities the compliance analyst iii is responsible for advanced monitoring analysis investigation of transactional data for identification of patterns and trends of questionable and or suspicious activity as it relates to risks associated with violations money laundering fraud terrorist financing corruption and sanctions lists the incumbent is responsible for gathering the proper documentation investigating potentially suspicious financial activity writing details reports summarizing research results and when appropriate files suspicious activity reports sars with country regulatory bodies refers matters to the regional compliance teams for review and reporting conducting an investigation may involve written and verbal communications with agents customers law enforcement and moneygram employees primary responsibilities o evaluates fraudulent suspicious and or unusual activity for regulatory reporting and or escalation to management and or other departments o determines whether transactions are legitimate and have been properly documented o serves as subject matter expert in analysis and investigative techniques o gathers pertinent evidence proper documentation through confidential research analysis to support analytical finding through more complex monitoring rules conducting internal external research pulling of transaction records and reviewing reports o conducts inbound and or outbound interviews with consumer agent or employees to gather pertinent evidence and additional details o conducts all regulatory submissions within the timelines and guidelines and country regulatory requirements o create and maintains investigative case files ensure appropriate records files are maintained accurately and are properly reconciled per all record keeping requirements mgi and regulatory o gathers information responsive to internal and or external requests for sar supporting documentation subpoenas or other requests as needed o makes sure databases logs are kept current reconciled and confidential o utilizes resources to stay abreast of industry trends and standards o provides and assist management with information on trends patterns to be used for potential control or rule enhancements helping to increase department efficiency effectiveness of the aml process for moneygrams compliance program o partners with regional compliance teams to maintain awareness of transactional patterns in moderate to high risk countries as well as provide aml fraud related advisory services in relations to financial intelligence unit activities o performs other duties as assigned skills and experience required educational requirements ba bs in business finance law enforcement legal studies or a related field may be substituted with equivalent work experience in financial services law enforcement banking or a related field experience requirements   years of data analytics related to complex compliance financial investigations experience in money service business or banking environments and or familiarity with various financial products acfe or acams certification required within   months of hire exceptional analytical cross referencing and deductive reasoning skills excellent attention to detail in analysis and writing with the proven ability to formulate execute an investigation strong written and verbal communication skills o communicate effectively with a culturally diverse agent and consumer base fluent bilingual communication skills preferred o writing skills may include writing policy procedure and management reports o able to effectively communicate investigative findings and recommendations with senior leadership law enforcement proactive organized able to work independently decisive on time managed sensitive assignments demonstrated ability to work successfully in a fast pace highly structured deadline driven culture flexibility to effectively prioritize work assignments with changing priorities experience working with highly confidential information ability to work as an individual contributor within a team setting capable of sharing knowledge mentoring and training other team members demonstrated ability for computer and internet research skills advanced experience with ms office suite particularly excel ms access preferred experience using analyst notebook or other analytics and visualization tools preferred experience with financial products particularly money transfer monetary instruments and store value cards preferred knowledge of domestic and international higher risk countries jurisdictions and corridors of aml ctf concern preferred \n",
      "===\n",
      "Credit Analysts:3.5422046575061204e-06\n",
      "---\n",
      "credit interviewer department patient financial services schedule on call shift day shift hours variable salary         job details education associates degree or   years formal education or equivalent experience medical terminology required or successful completion of medical terminology course in the probationary period failure to complete medical terminology will result in termination of employment work experience two   years work experience in customer service healthcare or business related field keyboard computer skills advanced keyboard mouse computer and microsoft windows skills must have knowledge and ability to learn access and utilize   of the computer programs listed below in the probationary when appropriate for respective department the applicant will be expected to learn and maintain proficiency in all other applications relative to the position microsoft word and excel internet web browser star current email system insurance verification systems smart web cerner applications otg scanning huron applications star cash posting and apex must be able to pass a typing test of at least   words per minute with under   errors other entry requirements above average oral and written communication skills and the ability to converse well on the telephone and in face to face situations is required applicant must be warm friendly and sensitive to the feelings and concerns of others knowledge of current third party payer reimbursement required organization under the general supervision of the manager patient financial services and the patient financial services coordinator organizational reports to the director of patient financial services may receive input instructions from patient financial services director working relations with all ancillary departments and co workers the ability to function responsibly in a minimally supervised work situation must be a self starter and self directed proven decision making skills are required specific duties supports the mission vision and values of munson healthcare embraces and supports the performance improvement philosophy of munson healthcare has basic understanding of relationship based care rbc principles meets expectations outlined in commitment to my co workers and supports rbc unit action plans promotes personal and patient safety uses effective customer service interpersonal skills at all times is required to meet minimum quality and productivity scores as defined by management works well under general guidance ability to handle a frequent demand of shifting priorities and deadlines with a broader scope of complexity responsible for data accuracy and input on star handles questions from patients or interested persons concerning insurance credit or other problems relating to the hospital interviews in person or by phone patients and relatives requesting payment arrangements or assistance resolves problems regarding insurance lack of information and provides financial assistance as required takes payments and makes payment arrangements on any unpaid balances verifies insurance benefits on problem accounts works daily and weekly reports works delinquent payment plans dictates and sends collection letters as required handles problem patient correspondence makes collection telephone calls handles incoming collection calls interviews prospective charity recipients and determines eligibilityrecords bad debt payments and provides information for collection agencies in order to facilitate collection assists with munson healthcare affiliate accounts posts notes bills insurance receives payment coordinates refunds and makes collection calls refers uncollectables to the collection agency files claim with probate court against deceased patient s estate performs any other clerical duties relating to this job as directed by the office coordinator s manager s or director maintains the confidentiality of all information exposed to while an employee of munson medical center performs other duties and responsibilities as assigned click here to apply online\n",
      "===\n",
      "Credit Analysts:0.0001565270095245934\n",
      "---\n",
      "a client in the northwest suburbs is looking for a credit analyst on a temporary basis as the credit analyst you will be responsible for the following extend credit to new customers by performing preliminary credit analysis in determining customer credit status and reviewing existing customers credit line responsible for entering new accounts into computer system and maintaining all a r account information analyze financial data compile reports and review each assigned account and make recommendations as to the size of the customers credit line responsible for research efforts outbound calling to customers write offs suspension of credit reconciliation of charge backs insure that orders are released in a timely manner and customer balances are collected within terms responsible for account credit reviews order releases credit holds ucc filings reconciling customer accounts and collection on equipment leases and contracts while minimizing bad debt loss approve or reject customer deals within approved credit authority work as liaison with all departments works closely with branch accounting and customer contacts to ensure timely collection of outstanding receivables to achieve dso targets heavy phone contact with customers weekly calls to all accounts with past due receivables prepare monthly reports summarizing pas due account status and receivable aging trends work closely with credit manager collection attorney to prepare claims for legal action responsible for handling confidential information appropriately if interested please apply directly and contact brian shute at       or brian shute accountemps com basic credit consumer intermediate credit collection basic credit analysis sap financials none none none \n",
      "===\n",
      "Financial Examiners:0.0004114526686101085\n",
      "---\n",
      " overview at argosy casino alton every night feels like opening night imagine a movie premiere and red carpet excitement a front row seat and the buzz of the crowd when youre this close to the fun you really are part of the action if you want to be part of an organization where team members smile as much as the guests consider all we have to offer don t just work work happy your daily responsibilities include perform cashier buys verifies money and total amount of buy balance main bank to impressed amounts and in certain banks non impressed amounts verifies cash drawer at beginning and end of shift and makes sure all paperwork is filled out properly process slot machine jackpots enter into computer call surveillance complete w g forms when needed and pay out money cash customers checks perform cashier or vault duties when necessary perform count team member duties when needed cash chips redeem players winnings for cash refund safekeeping customer deposits and found money process markers for credit players verify credit lines for players process and cash credit card cash advances process all fills and credit with table games balance cash drawers ensure that the drawers are at appropriate impressed or non impressed amount at the beginning and end of each shift do buys with window cashiers keep drawer stocked throughout current shift and for the next shift also do buys with vault for chips and cash complete all necessary paperwork main bank summary multiple logs ctr check log marker issuance and iou control log and key logs receipt in dealer cage security and slot tokes perform redemption kiosk drop and emergency kiosk fills comply with company policies all state and federal regulations and internal controls as it relates to this position employees may be required to perform duties outside of their normal job description where in the companys judgment it is necessary in the interest of efficiency productivity or improved guest service to be successful in this position it will require the following skill set o must be a minimum of   years of age o high school diploma or equivalent o one year of prior work experience o ability to handle large sums of money o maintain accountability over a cashier drawer o perform all duties in a confidential manner o previous money handling experience is preferred o ability and desire to work in a fast pace environment o customer service oriented o ability to operate a   key calculator o some computer knowledge is helpful o ability to stand for long periods of time o stand for an eight or ten hour shift o knowledge of casino functions o ability to work with high levels of noise and crowds o must have manual dexterity and coordination to operate office equipment o communicates effectively with customers in a pleasant professional o accurately counts money and exchanges coins or gaming chips for customers o physically mobile with reasonable accommodations including ability to push pull carry and lift up to   lbs and the ability to push pull reach bend twist stoop stack crouch kneel and balance when performing job duties in varying work areas such as confined spaces o the job requires the ability to lift bending at the knees canisters off of the floor in a safe manner and onto or into equipment and work surfaces while twisting at the waist the job requires pushing casino carts through the casino in a while protecting the safety of ones self and others something to leave you with penn national gaming is more than you may realize we have properties throughout the united states and canada and are embarking on an aggressive growth mode our departments and areas of opportunity are ideal for just about any skill set and our company wide commitment to making sure our guests smile as much as we do means youll enjoy a fun working environment now that you have read about who we are here is your opportunity to see what we re about equal opportunity employer apply email onlineapply refer email this job to a friendemail refer a linkedin connection share on your newsfeed connect with us not ready to apply connect with usfor general consideration interested in this career opportunity not ready to apply now click here to create your profileto submit your resume for general consideration job id     casino property argosy casino alton location us il alton posted date       position type regular part time category accounting finance more information about this opportunity overview at argosy casino alton every night feels like opening night imagine a movie premiere and red carpet excitement a front row seat and the buzz of the crowd when youre this close to the fun you really are part of the action if you want to be part of an organization where team members smile as much as the guests consider all we have to offer don t just work work happy your daily responsibilities include perform cashier buys verifies money and total amount of buy balance main bank to impressed amounts and in certain banks non impressed amounts verifies cash drawer at beginning and end of shift and makes sure all paperwork is filled out properly process slot machine jackpots enter into computer call surveillance complete w g forms when needed and pay out money cash customers checks perform cashier or vault duties when necessary perform count team member duties when needed cash chips redeem players winnings for cash refund safekeeping customer deposits and found money process markers for credit players verify credit lines for players process and cash credit card cash advances process all fills and credit with table games balance cash drawers ensure that the drawers are at appropriate impressed or non impressed amount at the beginning and end of each shift do buys with window cashiers keep drawer stocked throughout current shift and for the next shift also do buys with vault for chips and cash complete all necessary paperwork main bank summary multiple logs ctr check log marker issuance and iou control log and key logs receipt in dealer cage security and slot tokes perform redemption kiosk drop and emergency kiosk fills comply with company policies all state and federal regulations and internal controls as it relates to this position employees may be required to perform duties outside of their normal job description where in the companys judgment it is necessary in the interest of efficiency productivity or improved guest service to be successful in this position it will require the following skill set o must be a minimum of   years of age o high school diploma or equivalent o one year of prior work experience o ability to handle large sums of money o maintain accountability over a cashier drawer o perform all duties in a confidential manner o previous money handling experience is preferred o ability and desire to work in a fast pace environment o customer service oriented o ability to operate a   key calculator o some computer knowledge is helpful o ability to stand for long periods of time o stand for an eight or ten hour shift o knowledge of casino functions o ability to work with high levels of noise and crowds o must have manual dexterity and coordination to operate office equipment o communicates effectively with customers in a pleasant professional o accurately counts money and exchanges coins or gaming chips for customers o physically mobile with reasonable accommodations including ability to push pull carry and lift up to   lbs and the ability to push pull reach bend twist stoop stack crouch kneel and balance when performing job duties in varying work areas such as confined spaces o the job requires the ability to lift bending at the knees canisters off of the floor in a safe manner and onto or into equipment and work surfaces while twisting at the waist the job requires pushing casino carts through the casino in a while protecting the safety of ones self and others something to leave you with penn national gaming is more than you may realize we have properties throughout the united states and canada and are embarking on an aggressive growth mode our departments and areas of opportunity are ideal for just about any skill set and our company wide commitment to making sure our guests smile as much as we do means youll enjoy a fun working environment now that you have read about who we are here is your opportunity to see what we re about equal opportunity employer \n",
      "===\n",
      "Credit Analysts:0.001210114909061986\n",
      "---\n",
      "parexel job details parexel home search openings search results job details help siteid   dateopen dateclosed       job details tweet job  of   apply to job nbspview similar jobs job title senior resolution analyst collections job family finance requisition pare   location usa massachusetts billerica why work at parexel there are pivotal moments in every career sharing new treatments improving processes delivering life saving advances the people who succeed are the ones who make the journey go further and faster every time what if you had a partner to support you as you reach the next level in your professional path a partner who believes a collaborative environment is key to achieving your goals a partner who is dedicated to your health and wellness so you can help make a difference in the lives of millions worldwide thats parexel were a diverse team of professionals focused on one goal getting treatments into the hands of those who need them most working together the results we bring to our clients and the opportunities we bring to our team get better with every step how can we help you on your journey find your path and learn more onlinkedin youtube facebook twitter andglassdoor job description the sr resolution analyst will provide summary trend analysis for strategic accounts and sbu ar positions this will include customized reporting on past due transactions payment trends and the initial cash forecasting utilized by the treasury department this sr resolution analyst is also responsible for validating and reducing the billed and unbilled positions of strategic accounts the sr resolution analyst will be responsible for hosting meetings with key stakeholders in effort to manage the ar on all large accounts the job duties also extend to mentoring new employees developing ongoing training modules implementing industry changes within the collection department reviewing the health of the ar from both a strategic customer and sbu perspective they will also act as a lead to ensure collections specialist and coordinators are driving towards the corporate dso management objectives qualifications education bachelors degree in accounting or finance masters a plus language skills solid english skills are required german spanish japanese french are a plus minimum work experience requirements significant prior collection customer service experience eeo disclaimer parexel complies with all applicable federal state and local laws prohibiting discrimination in employment all qualified applicants will receive consideration for employment without regard to gender age race color religious creed marital status sexual orientation national origin ethnicity ancestry citizenship genetic information disability protected veteran status or any other characteristic protected by applicable federal state or local law apply to job nbspview similar jobs\n",
      "===\n",
      "Financial Examiners:0.9831259777428645\n",
      "---\n",
      "nisource is committed to providing equal employment opportunities in each of its companies to all employees and applicants for employment without regard to race color religion national origin or ancestry veteran status disability gender age marital status sexual orientation gender identity genetic information or any protected group status as defined by law each employee is expected to abide by this principle _______________________________________________________________________________by applying you may be considered for other job opportunities _______________________________________________________________________________ knowledge skills and abilities required for selection this position will require excellent leadership problem solving and decision making skills the ability to work with minimal supervision and the ability to perform duties effectively under emergency situations must have proven experience understanding and evaluating ferc orders notices nerc standards and company procedures including anoprs and noprs the candidate must possess administrative competency in three of the following knowledge areas knowledge of plant operations rates tariffs energy trading state and federal regulations nerc standards and company procedures must possess basic pc skills and the ability to create and deliver presentations to various audiences must have excellent planning organizational verbal and written communication skills must be able to express complex technical concepts effectively both verbally and in writing must have the ability to work well with people from diverse disciplines with varying degrees of technical experience must be proficient in the use of the microsoft office suite adobe pro and dts this position requires passing a drug test and federal criminal background and identity check preferred for selection prior experience in electric transmission generation or distribution operations working knowledge of training methodologies using computer modeling and simulation knowledge of nerc and ferc standards and guidelines nerc system operator rc certification education work experience required for selection bachelors degree in engineering engineering technology or equivalent must possess a working understanding of the state and federal regulatory requirements electric systems bulk power transmission and generation demonstrated ability to effectively communicate and perform under emergency and contingency situations minimum of   years work experience in energy utility or related industry core leadership criteria coaching adaptability building trust partnerships leading through vision values decision making facilitating change drive for results champion change work collaboratively manage execution foster open communications gain commitment this position is responsible for the development and daily management of hammond compliance training engineers specialists including performance evaluations and compensation management the position works under the direction of the manager nerc compliance to ensure consistent application of department guidelines and procedures principal duties and responsibilities lead and direct the development and implementation of the nipsco training plan according to nerc standard per     effective       evaluate develop and implement all training activities under general supervision ensure that nipsco is in compliance with federal and state regulatory requirements as well as nerc rf and miso rules and guidelines coordinate develop and support the nipsco training activities associated with state and federal laws and regulations where applicable to nipsco electric transmission generation dispatch energy management systems and others as designated ensure the bulk electric system bes operators are in compliance with the annual hammond compliance training requirements develop and maintain scenarios for the dispatcher training simulator dts maintain working knowledge of the nipsco electric system and provide training in lessons learned activities using the dts keep current with evolving state and federal laws and recommend possible subject matter for future training notify the manager nerc compliance and recommend plans of action for immediate or potential effects of notices of public rulemaking noprs and regulations etc for the bulk electric system support the maintenance and improvement of systems and software programs used by the nerc compliance operations technology and compliance training areas work with personnel from other departments to supply training data requested by any state or federal agency review and develop new course content as needed evaluate training effectiveness and implement changes as needed comply with all hammond compliance training requirements and nipsco ethics policies participate in various committees pertaining to hammond compliance training requirements lead and ensure the fulfillment of team responsibilities including providing all evidence required for hammond compliance training requirements for nerc self certification and hammond compliance training data requests to the nerc compliance department compiling all required nerc compliance reliability standards audit worksheets rsaw coordinating and providing training and tests for dispatcher operator trainees providing nerc compliance guidance to nipsco operations bes field engineers specialists provide reliable   x   on site or remote support should the need arise this position will provide leadership and technical expertise to the team of nipsco hammond compliance training engineers specialists this group of engineers specialists under general supervision evaluates develops and implements all transmission generation dispatch energy management training simulator and dispatcher operator training to keep nipsco in compliance with federal and state regulatory requirements requires working with team and subject matter experts sme to ensure adherence to ferc nerc rf and miso guidelines is also responsible for supporting all training agenda and strategies pertaining to nipsco corporate policies to support federal and state regulations the position is also responsible for assisting the manager nerc compliance in evaluating developing and implementing all strategies pertaining to corporate nerc compliance required training associated with the electric transmission generation dispatch and energy management groups and others as designated to keep nipsco in conformity with federal and state compliance regulations the leader hammond compliance training will work directly with the manager nerc compliance in developing training plans and training exercises to meet hammond compliance training requirements the leader hammond compliance training will ensure the timely delivery and reporting of required nerc compliance training value inclusion within your day to day responsibilities by respecting others perspectives convictions engaging others opinions creating a safe environment where people ideas and opinions are valued within your team customers and external partners respect and take into consideration diversity within your team customers and external work partners by valuing different world views challenges and cultures that represent all walks of life and all backgrounds treat others with respect and consideration actively participate in creating and contributing to a positive work environment job family operations professional\n",
      "===\n",
      "Financial Examiners:0.9832919426465715\n",
      "---\n",
      "northrop grumman aerospace systems as is seeking an international trade compliance analyst   in their san diego ca facility that will implement and support the development of comprehensive internal export and import controls to ensure compliance with us and foreign regulations in the conduct of international marketing sales supply chain and other business activities responsibilities include drafting export import authorizations for submission to the us government implements operational processes for assuring trade compliance through gate reviews of technical data foreign travel foreign visits and export and import shipments maintain applicable trade compliance records in accordance with regulatory requirements supports law department in investigating and resolving compliance problems questions or complaints supports training and audit assessment programs to ensure implementation and effectiveness of internal controls generate performance metrics for export and import processes additional responsibility will include the ability to draft export authorizations ability to communicate effectively demonstrated knowledge of itar and ear work under consultative direction toward long range goals and objectives basic qualifications bachelor s degree   years export licensing or directed related experience knowledgeable of international traffic in arms regulation itar and export administration regulations ear ability to draft export authorizations i e licenses and technical assistance agreements ability to obtain and maintain a secret clearance preferred qualifications familiar with mtcr ability to draft manufacturing license agreements familiar with export control reform northrop grumman corporation is a leading global security company providing innovative systems products and solutions in unmanned systems cybersecurity c isr and logistics and modernization to government and commercial customers worldwide northrop grumman is committed to hiring and retaining a diverse workforce we are proud to be an equal opportunity affirmative action employer making decisions without regard to race color religion creed sex sexual orientation gender identity marital status national origin age veteran status disability or any other protected class for our complete eeo aa statement please visitwww northropgrumman com eeo u s citizenship is required for most positions organization aerospace systems title intl trade compliance anlyst   location california san diego requisition id   \n",
      "===\n",
      "Credit Analysts:0.9856571072046544\n",
      "---\n",
      "deputy head of credit senior credit officer financial institutions country risk job title deputy head of credit senior credit officer financial institutions country risk job type permanent location london united kingdom job description purpose europe credit division eucr is an independent credit control function its principle responsibility is to maintain and monitor the quality of that part of the lending book falling within its jurisdiction europe africa and the middle east in accordance with bank policy and the procedures contained in standard instructions specifically team   is responsible for financial institutions including banks and insurance companies and country risk eucr will middot approve facilities for these customers as front office general managers have no authority for this group of clients middot recommend country ratings and country limits for all emea countries middot review and monitor the loan portfolio to maintain a balanced and quality driven asset base middot disseminate and ensure compliance with the bank rsquo s credit policy regulatory requirements and local laws middot act as a point of reference and maintain a constructive and supportive relationship with the front office for all matters relating to lending middot provide training and support to the front office teams in the analysis of financial institutions and country risk the deputy head of credit dhc in eucr has a pivotal role in managing the above process accountabilities and responsibilities   to approve new and increased credit facilities and renew existing lines of finance to customers in line with bank policy and within designated discretionary limits specifically to carry out a thorough analysis of financial institution credit applications and emerging markets country risks in the emea region   monitor developments by country and across the financial institution sector identifying major risk factors and investigating any adverse trends that may affect existing clients quality of book bringing these to the attention of senior management   to initiate and or undertake projects that will contribute to improved risk assessment of emerging countries   to develop and maintain information sources relevant to emerging market countries under europe credit division jurisdiction to the extent of being ready to exchange views and or opinions with external organizations such as other banks institutions rating agencies and so on   to conduct due diligence visit to countries and banks whenever a new country is included in our portfolio and on a regular basis to those countries which pose a heightened risk profile   to assist the general manager in the decision making process with regard to credit applications in excess of personal designated discretionary limits and where necessary provide supporting summary opinions recommendations to senior management and head office ho   to monitor the existing portfolio taking action as necessary in response to adverse developments so as to protect the banks position and ensure the lending book remains of the highest quality   to manage staff and workflow within eucr on a day to day basis maintain and promote high quality lending standards throughout the bank and assist members of staff within eucr branches divisions and subsidiaries on all credit related matters including the provision of training and mentoring as necessary   to assist the general manager in the running of the credit division function including as requested attendance at internal and external bank meetings   to research and establish policy guidelines and lending limits for industries and high risk or developing sectors of the portfolio liaising with ho tokyo and other divisions as necessary   to review and consider ways of improving upon existing credit procedures and guidelines including as necessary systems for rating monitoring and reporting on portfolio quality knowledge skills essential middot very strong credit analysis and research skills experience of lending to and analysing banks in particular emerging market banks and insurance companies is essential middot experience in emerging market country risk analysis is essential middot travel to and interest in emerging markets is a pre requisite middot good research skills with an understanding of how developed market banks analyse and mitigate the risks associated with emerging market operating environments middot ability to understand and interpret the financial statements of financial institutions including the ability to identify window dressing of these statements middot some knowledge of financial crises and bank failures over the last two decades middot knowledge of economics to at least first degree level middot knowledge of mizuho culture philosophy structure and policies including rating systems and procedures and lending pricing guidelines middot good oral and written communication presentation skills middot computer literate word processing spreadsheet middot ability to work in a cross cultural environment middot previous management experience desirable middot experience of lending into emerging markets eastern europe russia africa middle east middot knowledge of uk european legal systems and insolvency law middot experience of other banking systems and procedures middot knowledge of rating agencies rsquo methodologies mizuho bank london branch has approximately   employees located in the city of london near st paul s cathedral within london mizuho bank ltd provides a full range of banking and treasury products and services to corporate customers \n",
      "===\n",
      "Financial Examiners:0.9991228016613738\n",
      "---\n",
      " job summary and essential functions known for its scientific and operational excellence regeneron is a leading science based biopharmaceutical company that discovers invents develops manufactures and commercializes medicines for the treatment of serious medical conditions regeneron commercializes medicines for eye diseases high ldl cholesterol and a rare inflammatory condition and has product candidates in development in other areas of high unmet medical need including oncology rheumatoid arthritis asthma atopic dermatitis pain and infectious diseases summary the iops industrial operations and product supply it compliance analyst is responsible for ensuring that the iops it group is operating in compliance with regulatory requirements and regeneron internal procedures as well being the key liaison between the iops it and quality assurance groups essential duties and responsibilities include but are not limited to the following ensures iops it procedures are in compliance with regulatory and corporate requirements ensures iops it personnel are operating in compliance with regulations and procedures assists iops it personnel in interactions with quality assurance personnel and the quality management system evaluates develops and modifies iops it policies and standard operating procedures to meet regulatory requirements and obligations provides iops it with technical writing assistance tracks and reports on iops it quality metrics works closely with qa validation to ensure iops it systems are validated and maintained in a validated state represents iops it or assists iops it subject matter experts smes during internal and external audits ensures it operational controls are in place and maintained throughout the system lifecycle e g periodic reviews disaster recovery testing performance monitoring etc tracks and verifies that all it administration activities are completed as per procedures champions data integrity for all it systems represents iops it at noe deviation event meetings assists iops it personnel in writing responding to deviations events including detailed event investigation and root cause analysis tracks and facilitates the remediation activities associated with it related capas assists iops it personnel in participating in and successfully navigating through the quality management processes manages or assists iops it smes with iops it change controls ensures iops it training is adequate and current completes gap assessments and remediation efforts knowledge and skills knowledge of cgmp   cfr part   annex   gamp   knowledge of and experience with quality management systems knowledge of and experience with sdlc methodologies in a cgmp regulated environment working knowledge of utilizing a risk based approach to documentation and or experience with quality risk management is strongly preferred excellent technical writing ability and communication skills excellent attention to detail computer skills and ability to adapt to new systems technologies ability to work independently with high level guidance and supervision experience and required skills education and experience bs ba in related field required along with a minimum of   years of relevant experience preferred may substitute relevant industry experience for educational requirement qa experience within an it department strongly preferred minimum of   years of experience in the pharmaceutical or biotechnology industry required title level associate analyst analyst or senior analyst will be determined based on skills and experience this is an opportunity to join our select team that is already leading the way in the pharmaceutical biotech industry apply today and learn more about regenerons unwavering commitment to combining good science good business to all agencies please no phone calls or emails to any employee of regeneron about this opening all resumes submitted by search firms employment agencies to any employee at regeneron via email the internet or in any form and or method will be deemed the sole property of regeneron unless such search firms employment agencies were engaged by regeneron for this position and a valid agreement with regeneron is in place in the event a candidate who was submitted outside of the regeneron agency engagement process is hired no fee or payment of any kind will be paid regeneron is an equal opportunity employer and all qualified applicants will receive consideration for employment without regard to race color religion sex national origin disability status protected veteran status or any other characteristic protected by law \n",
      "===\n",
      "Financial Examiners:0.999990608695619\n",
      "---\n",
      "regulatory compliance lead description regulatory compliance lead olin chlorine products ocp a division of olin corporation has an opportunity for a regulatory compliance lead this role will lead olin pipeline services regulatory compliance efforts ensuring all olin regulated pipeline assets are in compliance with existing forthcoming dot department of transportation and rrc rail road commission pipeline safety rules the regulatory compliance lead will ensure compliance with state federal regulations regarding pipelines to avoid injury to personnel environment notices of violations responsibilities lead department to comply with existing dot rrc pipeline safety rules manage ongoing list of opportunities for current rules liquid title   cfr part   title   tx admin code                 tx util code ug facility damage prevention and safety title   chapter   subchapter a e oil and gas regulations     and     tx natural resources code chapter     cfr   definitions title   cfr part   title   cfr part   gas title   cfr part   title   cfr part   title   tx admin code         tx util code ug facility damage prevention and safety title   chapter   subchapter a e tx natural resources code                 title   cft part   title   cfr part   title   cfr part   lead department implementation of new pipeline regulatory requirements changes to existing requirements or new interpretations of existing requirements work with the dot rrc on interpretations which affect our olin assets regarding new rules or interpretations e g definition of hazardous liquid navigable waterway surveys control room application overpressure protection responsible for managing filing and updating regulatory permits for pipelines t   t   srcr safety related conditions reports permits for new pipeline construction etc designated regulatory contact with tx railroad commission rrc secure opid for olin and maintain all records associated with it olin pipeline services contact with external audits performed by railroad commission on gas and liquid o m requirements these audits generally occur on an annual frequency resolve notice of violationss novs imposed during any external audit maintain high consequence area identifications within the corridors and documentation of class location surveys department element focal point efp for     process safety focal point for olin pipeline services for process safety reviews focal point for olin pipeline services for lpps loss prevention principles where applicable regulatory sme role contact person subject matter expert for freeport site for questions and answers on pipeline regulations communication contact for olin pipeline services for self audits audit protection requests and disclosures responses to and from dot and rrc incident reporting to both phmsa and rrc gis regulatory sme subject matter expert responsible to maintain license to operate appropriate user id and will manage any and all compliance related permits forms etc for olin pipeline services additional roles responsible for regulatory compliance tech op qualification training drug alcohol screening this role is responsible to assure proper training and testing programs are put in place for operator qualifications and drug and alcohol screening programs as required by dot and trrc this program will be administered by a  rdparty contractor but this role will assume overall responsibility to assure all aspects of the requirements are met by olin contractor oversight role manages and provide direction and oversight to contractor personnel working to support dot rrc mechanical integrity related compliance issues removes barriers with getting work done assures all activities meet compliance goals and expectations ppm coordination ppm coordinator manages all the preditive and preventative maintenance related to maintaining compliance creates inspection and repair replacement reports and forecasts future inspection work data collection and documentation are key requirements and this role will work with the ppm coordinator to assure compliance gis sme specialist piperack drawings gis sme manages all gis database issues using gis software this role will manage the overall efforts of the gis sme specialist role assuring all aspects of gis needed to meet regulatory compliance are in place gis compliance tech works with gis sme to perform daily tasks line file specialist doc admin b   dot file room these critical roles fill out the needs of the compliance group and include field work to validate line information proper documentation of all regulatory documents and a person who manages the pipeline services library responsible to initially to work with this contract employee role and olin odms to properly set up our library to meet regulatory and audit requirements maintain library per direction of odms coordinator for olin education and qualifications high school or equivalent college degree is preferred preferred experience and knowledge of pipeline regulatory requirements and permitting olin corporation nyse oln has an over one hundred year history of supplying quality products to our customers while generating value for our shareholders on a daily basis we are meeting our customers evolving needs through innovation continuous improvement and an unwavering commitment to exceeding expectations and maintaining the highest ethical standards olin s     dedicated employees are fully committed to being good neighbors and environmental stewards in the communities in which our facilities are located olin chlorine products is global division of olin with three business segments u s gulf coast chlor alkali and vinyl products global chlorinated organics and global epoxy olin corporation also has three other divisions olin chlor alkali products winchester and k a steel chemicals olin chlor alkali is a major north american manufacturer of basic chemicals including chlorine caustic soda bleach and hydrochloric acid winchester is a major global supplier of sporting ammunition reloading components and small caliber military ammunition and components and industrial cartridges k a steel chemicals is a distributor of caustic soda and the largest manufacturer of bleach in the midwest area of the u s olin offers competitive compensation and comprehensive benefits an opportunity to make a real difference in the manufacturing industry but a small company environment that gives employees a chance to be seen and appreciated and to grow in responsibility a variety of jobs and career paths that will appeal to those who are drawn to a creative energetic and open workplace environment olin is an equal opportunity employer m w vet disabled \n",
      "===\n"
     ]
    }
   ],
   "source": [
    "#these are the 5 comments the model is most sure of \n",
    "for i in top_comments_testing_set_idx:\n",
    "    print(\n",
    "        u\"\"\"{}:{}\\n---\\n{}\\n===\"\"\".format(test_set_labels[i],\n",
    "                                          y_score[i,1],\n",
    "                                          test_corpus[i]))"
   ]
  },
  {
   "cell_type": "code",
   "execution_count": null,
   "metadata": {},
   "outputs": [],
   "source": []
  }
 ],
 "metadata": {
  "kernelspec": {
   "display_name": "Python 3",
   "language": "python",
   "name": "python3"
  },
  "language_info": {
   "codemirror_mode": {
    "name": "ipython",
    "version": 3
   },
   "file_extension": ".py",
   "mimetype": "text/x-python",
   "name": "python",
   "nbconvert_exporter": "python",
   "pygments_lexer": "ipython3",
   "version": "3.6.5"
  }
 },
 "nbformat": 4,
 "nbformat_minor": 2
}
